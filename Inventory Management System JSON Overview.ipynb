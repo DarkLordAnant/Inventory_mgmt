{
 "cells": [
  {
   "cell_type": "code",
   "execution_count": 6,
   "id": "d43ad8c5-f28d-41bf-8d18-fe6feb3e2728",
   "metadata": {},
   "outputs": [],
   "source": [
    "import json\n",
    "prod_list={\n",
    "    1001: {\"Name\": \"Dairy Milk\", \"Price\": 10, \"Qn\": 100},\n",
    "    1002: {\"Name\": \"Milky Bar\", \"Price\": 20, \"Qn\": 200},\n",
    "    1003: {\"Name\": \"Strawberry IceCream\", \"Price\": 250, \"Qn\": 30},\n",
    "    1004: {\"Name\": \"Chocolate Cake\", \"Price\": 450, \"Qn\": 5}}\n",
    "rs= json.dumps(prod_list)\n",
    "fd= open(\"Records.json\", \"w\")\n",
    "fd.write(rs)\n",
    "fd.close()"
   ]
  },
  {
   "cell_type": "code",
   "execution_count": 5,
   "id": "8ffd9915-36e5-49e7-a95b-2d263862f2d2",
   "metadata": {},
   "outputs": [],
   "source": [
    "import json\n",
    "import time"
   ]
  },
  {
   "cell_type": "code",
   "execution_count": 12,
   "id": "a5af2b8f-a5a8-4bbb-8223-39c5c3ce2b97",
   "metadata": {},
   "outputs": [
    {
     "name": "stdout",
     "output_type": "stream",
     "text": [
      "----------MENU----------\n",
      "1001  :  Dairy Milk | 10 | 95\n",
      "1002  :  Milky Bar | 20 | 200\n",
      "1003  :  Strawberry IceCream | 250 | 18\n",
      "1004  :  Chocolate Cake | 450 | 5\n",
      "-----10% Discount on Shopping of 5000-----\n",
      "-------------------------\n"
     ]
    },
    {
     "name": "stdin",
     "output_type": "stream",
     "text": [
      "Enter your name jejo\n",
      "Enter email fvnefkjv\n",
      "Enter phone no. ev ekve\n",
      "Enter product id 1004\n",
      "Enter quantity 6\n"
     ]
    },
    {
     "name": "stdout",
     "output_type": "stream",
     "text": [
      "We have only 5 quantity, do you want to buy?(Y/N)\n"
     ]
    },
    {
     "name": "stdin",
     "output_type": "stream",
     "text": [
      "Enter y/n y\n"
     ]
    },
    {
     "name": "stdout",
     "output_type": "stream",
     "text": [
      "-------------------------\n",
      "\tBILL\t\n",
      "\n",
      "Product ID            : 1004\n",
      "Product Quantity      : 5\n",
      "Product MRP           : 450 Rs\n",
      "-------------------------\n",
      "Bill Amount           : 2250 Rs\n",
      "-------------------------\n",
      "Discount              : 225.0 Rs\n",
      "CGST                  : 50.625\n",
      "SGST                  : 50.625\n",
      "Total Amount          : 2126.25\n",
      "-------------------------\n"
     ]
    }
   ],
   "source": [
    "fd= open(\"Records.json\",\"r\")\n",
    "js= fd.read()\n",
    "product_list= json.loads(js)\n",
    "print(str(\"-\"*10)+\"MENU\"+str(\"-\"*10))\n",
    "for key in product_list.keys():\n",
    "    print(key,\" : \", product_list[key][\"Name\"],\"|\", product_list[key][\"Price\"], \"|\", product_list[key][\"Qn\"])\n",
    "print(str(\"-\"*5)+\"10% Discount on Shopping of 5000\"+str(\"-\"*5))\n",
    "print(\"-\"*25)\n",
    "ui_name=input(\"Enter your name\")\n",
    "ui_email=input(\"Enter email\")\n",
    "ui_phone=input(\"Enter phone no.\")\n",
    "ui_prd= input(\"Enter product id\")\n",
    "ui_qn= int(input(\"Enter quantity\"))\n",
    "\n",
    "if(product_list[ui_prd][\"Qn\"]>=ui_qn):\n",
    "    product_list[ui_prd][\"Qn\"]-=ui_qn\n",
    "    print(\"-\"*25)\n",
    "    print(\"\\tBILL\\t\\n\")\n",
    "    print(\"Product ID            :\", ui_prd)\n",
    "    print(\"Product Quantity      :\", ui_qn)\n",
    "    print(\"Product MRP           :\", product_list[ui_prd][\"Price\"], \"Rs\")\n",
    "    print(\"-\"*25)\n",
    "    bill_amount= (product_list[ui_prd][\"Price\"]*ui_qn)\n",
    "    print(\"Bill Amount           :\", (product_list[ui_prd][\"Price\"]*ui_qn), \"Rs\")\n",
    "    print(\"-\"*25)\n",
    "    if(bill_amount>=500):\n",
    "        discount=(bill_amount/10)\n",
    "    else:\n",
    "        discount=0\n",
    "    print(\"Discount              :\", discount, \"Rs\")\n",
    "    final_price= bill_amount-discount\n",
    "    print(\"CGST                  :\", (2.5*final_price/100))\n",
    "    print(\"SGST                  :\", (2.5*final_price/100))\n",
    "    final_price+=(5.0*final_price/100)\n",
    "    print(\"Total Amount          :\", (final_price))\n",
    "    print(\"-\"*25)\n",
    "    sale= ui_name+\",\"+ui_email+\",\"+ui_phone+\",\"+ui_prd+\",\"+str(ui_qn)+\",\"+str(product_list[ui_prd][\"Price\"])+\",\"+str((final_price))+\",\"+time.ctime()+\",\"+\"\\n\"\n",
    "    \n",
    "    \n",
    "else:\n",
    "    print(\"We have only\",product_list[ui_prd][\"Qn\"],\"quantity, do you want to buy?(Y/N)\")\n",
    "    chr= input(\"Enter y/n\")\n",
    "    if(chr=='y' or chr=='Y'):\n",
    "        \n",
    "        print(\"-\"*25)\n",
    "        print(\"\\tBILL\\t\\n\")\n",
    "        print(\"Product ID            :\", ui_prd)\n",
    "        print(\"Product Quantity      :\", product_list[ui_prd][\"Qn\"])\n",
    "        print(\"Product MRP           :\", product_list[ui_prd][\"Price\"], \"Rs\")\n",
    "        print(\"-\"*25)\n",
    "        bill_amount= (product_list[ui_prd][\"Price\"]*product_list[ui_prd][\"Qn\"])\n",
    "        print(\"Bill Amount           :\", (product_list[ui_prd][\"Price\"]*product_list[ui_prd][\"Qn\"]), \"Rs\")\n",
    "        print(\"-\"*25)\n",
    "        if(bill_amount>=500):\n",
    "            discount=(bill_amount/10)\n",
    "        else:\n",
    "            discount=0\n",
    "        print(\"Discount              :\", discount, \"Rs\")\n",
    "        final_price= bill_amount-discount\n",
    "        print(\"CGST                  :\", (2.5*final_price/100))\n",
    "        print(\"SGST                  :\", (2.5*final_price/100))\n",
    "        final_price+=(5.0*final_price/100)\n",
    "        print(\"Total Amount          :\", (final_price))\n",
    "        print(\"-\"*25)\n",
    "        product_list[ui_prd][\"Qn\"]=0\n",
    "        sale= ui_name+\",\"+ui_email+\",\"+ui_phone+\",\"+ui_prd+\",\"+str(product_list[ui_prd][\"Qn\"])+\",\"+str(product_list[ui_prd][\"Price\"])+\",\"+str((final_price))+\",\"+time.ctime()+\",\"+\"\\n\"\n",
    "    else:\n",
    "        print(\"Thanks\")\n",
    "        sale=\"\"\n",
    "\n",
    "fd= open('sale.txt','a')\n",
    "fd.write(sale)\n",
    "fd.close()\n",
    "\n",
    "js= json.dumps(product_list)\n",
    "fd= open(\"Records.json\", \"w\")\n",
    "fd.write(js)\n",
    "fd.close()"
   ]
  },
  {
   "cell_type": "code",
   "execution_count": 21,
   "id": "71f39f0e-08e6-48d6-a837-b3b35d9598fd",
   "metadata": {},
   "outputs": [],
   "source": [
    "fd.close()"
   ]
  },
  {
   "cell_type": "code",
   "execution_count": 22,
   "id": "0a26dfa8-ced1-47ac-8a88-8d4db5f2a451",
   "metadata": {},
   "outputs": [
    {
     "data": {
      "text/plain": [
       "{'1001': {'Name': 'Dairy Milk', 'Price': 10, 'Qn': 78},\n",
       " '1002': {'Name': 'Milky Bar', 'Price': 20, 'Qn': 200},\n",
       " '1003': {'Name': 'Strawberry IceCream', 'Price': 250, 'Qn': 30},\n",
       " '1004': {'Name': 'Chocolate Cake', 'Price': 450, 'Qn': 5}}"
      ]
     },
     "execution_count": 22,
     "metadata": {},
     "output_type": "execute_result"
    }
   ],
   "source": [
    "fd= open(\"Records.json\",\"r\")\n",
    "js= fd.read()\n",
    "product_list= json.loads(js)\n",
    "fd.close()\n",
    "product_list"
   ]
  },
  {
   "cell_type": "code",
   "execution_count": null,
   "id": "c03e7995-f825-483f-9166-0de92bc2e046",
   "metadata": {},
   "outputs": [],
   "source": []
  }
 ],
 "metadata": {
  "kernelspec": {
   "display_name": "Python 3 (ipykernel)",
   "language": "python",
   "name": "python3"
  },
  "language_info": {
   "codemirror_mode": {
    "name": "ipython",
    "version": 3
   },
   "file_extension": ".py",
   "mimetype": "text/x-python",
   "name": "python",
   "nbconvert_exporter": "python",
   "pygments_lexer": "ipython3",
   "version": "3.11.7"
  }
 },
 "nbformat": 4,
 "nbformat_minor": 5
}
