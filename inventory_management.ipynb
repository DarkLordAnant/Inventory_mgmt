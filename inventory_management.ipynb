{
 "cells": [
  {
   "cell_type": "code",
   "execution_count": 2,
   "id": "39cd145a-5004-4cbc-8422-e0dadf0e1c37",
   "metadata": {},
   "outputs": [],
   "source": [
    "fd= open(\"inventory.txt\", \"r\")\n",
    "txt= fd.read()\n",
    "fd.close()"
   ]
  },
  {
   "cell_type": "code",
   "execution_count": 2,
   "id": "9da1950e-afc1-413d-8f2e-3509e010c7e7",
   "metadata": {},
   "outputs": [
    {
     "name": "stdout",
     "output_type": "stream",
     "text": [
      "1,Lays,20,300\n",
      "2,Kurkure,10,250\n",
      "3,Chocolate,5,325\n",
      "4,Biscuit,40,150\n"
     ]
    }
   ],
   "source": [
    "print(txt)"
   ]
  },
  {
   "cell_type": "code",
   "execution_count": 3,
   "id": "3a1c8ebc-306e-42bf-8054-92bfc02aa59c",
   "metadata": {},
   "outputs": [
    {
     "data": {
      "text/plain": [
       "'1,Lays,20,300\\n2,Kurkure,10,250\\n3,Chocolate,5,325\\n4,Biscuit,40,150'"
      ]
     },
     "execution_count": 3,
     "metadata": {},
     "output_type": "execute_result"
    }
   ],
   "source": [
    "txt"
   ]
  },
  {
   "cell_type": "code",
   "execution_count": 3,
   "id": "27e29fd1-7af7-41a7-83c1-fe49252c80f7",
   "metadata": {},
   "outputs": [
    {
     "data": {
      "text/plain": [
       "['1,Lays,20,266',\n",
       " '2,Kurkure,10,250',\n",
       " '3,Chocolate,5,325',\n",
       " '4,Biscuit,40,150',\n",
       " '']"
      ]
     },
     "execution_count": 3,
     "metadata": {},
     "output_type": "execute_result"
    }
   ],
   "source": [
    "categories= txt.split('\\n')\n",
    "categories"
   ]
  },
  {
   "cell_type": "code",
   "execution_count": 9,
   "id": "d69d6c9a-31ad-47ae-a542-7b5c1eb8a391",
   "metadata": {},
   "outputs": [
    {
     "name": "stdin",
     "output_type": "stream",
     "text": [
      "Enter name anant\n",
      "Enter email aa@bb\n",
      "Enter phone no. 12456\n",
      "Enter product id 3\n",
      "Enter quantity 45\n"
     ]
    },
    {
     "name": "stdout",
     "output_type": "stream",
     "text": [
      "------------------------------\n",
      "Product Name         : Chocolate\n",
      "Product Price        : 5\n",
      "Quantity             : 45\n",
      "------------------------------\n",
      "Amount               : 225\n",
      "------------------------------\n"
     ]
    }
   ],
   "source": [
    "import time\n",
    "ui_customer_name= input(\"Enter name\")\n",
    "ui_customer_email= input(\"Enter email\")\n",
    "ui_customer_phone= input(\"Enter phone no.\")\n",
    "ui_prod_id= input(\"Enter product id\")\n",
    "ui_prod_quantity= int(input(\"Enter quantity\"))\n",
    "updated_lst=[]\n",
    "customer_info=\"\"\n",
    "for item in categories:\n",
    "    product= item.split(',')\n",
    "    if(ui_prod_id== product[0]):\n",
    "        if(ui_prod_quantity<= int(product[3])):\n",
    "            print('-'*30)\n",
    "            print(\"Product Name         :\", product[1])\n",
    "            print(\"Product Price        :\", product[2])\n",
    "            print(\"Quantity             :\", ui_prod_quantity)\n",
    "            print('-'*30)\n",
    "            print(\"Amount               :\", int(product[2])*ui_prod_quantity)\n",
    "            print('-'*30)\n",
    "            product[3]= str(int(product[3])-ui_prod_quantity)\n",
    "            customer_info= ui_customer_name+\",\"+ui_customer_email+\",\"+ui_customer_phone+\",\"+ui_prod_id+\",\"+str(ui_prod_quantity)+\",\"+time.ctime()+\"\\n\"\n",
    "        else:\n",
    "            ch= input(\"We have \"+ product[3]+\" quantity. Do you want to buy?(Y/N)\")\n",
    "            if(ch=='y' or ch=='Y'):\n",
    "                print('-'*30)\n",
    "                print(\"Product Name         :\", product[1])\n",
    "                print(\"Product Price        :\", product[2])\n",
    "                print(\"Quantity             :\", product[3])\n",
    "                print('-'*30)\n",
    "                print(\"Amount               :\", str(int(product[2])*int(product[3])))\n",
    "                print('-'*30)\n",
    "                product[3]= str(0)\n",
    "                customer_info= ui_customer_name+\",\"+ui_customer_email+\",\"+ui_customer_phone+\",\"+product[3]+\",\"+ui_prod_quantity+time.ctime()+\"\\n\"\n",
    "            else:\n",
    "                print(\"Thanks\")\n",
    "                \n",
    "        \n",
    "    updated_lst.append(product)\n",
    "custd= open(\"customer.txt\", \"a\")\n",
    "custd.write(customer_info)\n",
    "custd.close()"
   ]
  },
  {
   "cell_type": "code",
   "execution_count": 10,
   "id": "2c6b5674-ff47-4b1c-87ab-99108bc58dd9",
   "metadata": {},
   "outputs": [
    {
     "data": {
      "text/plain": [
       "[['1', 'Lays', '20', '266'],\n",
       " ['2', 'Kurkure', '10', '250'],\n",
       " ['3', 'Chocolate', '5', '280'],\n",
       " ['4', 'Biscuit', '40', '150'],\n",
       " ['']]"
      ]
     },
     "execution_count": 10,
     "metadata": {},
     "output_type": "execute_result"
    }
   ],
   "source": [
    "updated_lst"
   ]
  },
  {
   "cell_type": "code",
   "execution_count": 11,
   "id": "ca4e961d-85c9-4056-adf3-050973bf9c77",
   "metadata": {},
   "outputs": [],
   "source": [
    "fd= open(\"inventory.txt\", \"w\")\n",
    "for i in updated_lst:\n",
    "    prod=\"\"\n",
    "    for j in range(len(i)):\n",
    "        prod+=i[j]\n",
    "        if j!=len(i)-1:\n",
    "            prod+=\",\"\n",
    "    prod+=\"\\n\"\n",
    "    fd.write(prod)\n",
    "fd.close()"
   ]
  },
  {
   "cell_type": "code",
   "execution_count": null,
   "id": "9337d37a-0b03-403c-8e10-f2c07cdaa72d",
   "metadata": {},
   "outputs": [],
   "source": []
  }
 ],
 "metadata": {
  "kernelspec": {
   "display_name": "Python 3 (ipykernel)",
   "language": "python",
   "name": "python3"
  },
  "language_info": {
   "codemirror_mode": {
    "name": "ipython",
    "version": 3
   },
   "file_extension": ".py",
   "mimetype": "text/x-python",
   "name": "python",
   "nbconvert_exporter": "python",
   "pygments_lexer": "ipython3",
   "version": "3.11.7"
  }
 },
 "nbformat": 4,
 "nbformat_minor": 5
}
